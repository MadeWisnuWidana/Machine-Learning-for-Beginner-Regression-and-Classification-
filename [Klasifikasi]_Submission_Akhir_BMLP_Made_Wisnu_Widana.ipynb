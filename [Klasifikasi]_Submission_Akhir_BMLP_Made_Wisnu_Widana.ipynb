{
  "nbformat": 4,
  "nbformat_minor": 0,
  "metadata": {
    "colab": {
      "provenance": []
    },
    "kernelspec": {
      "name": "python3",
      "display_name": "Python 3"
    },
    "language_info": {
      "name": "python"
    }
  },
  "cells": [
    {
      "cell_type": "markdown",
      "source": [
        "# **1. Import Library**"
      ],
      "metadata": {
        "id": "fKADPWcFKlj3"
      }
    },
    {
      "cell_type": "markdown",
      "source": [
        "Pada tahap ini, Anda perlu mengimpor beberapa pustaka (library) Python yang dibutuhkan untuk analisis data dan pembangunan model machine learning."
      ],
      "metadata": {
        "id": "LgA3ERnVn84N"
      }
    },
    {
      "cell_type": "code",
      "source": [
        "# Manipulasi data\n",
        "import pandas as pd\n",
        "import numpy as np\n",
        "\n",
        "# Visualisasi data\n",
        "import matplotlib.pyplot as plt\n",
        "import seaborn as sns\n",
        "\n",
        "# Pra-pemrosesan data\n",
        "from sklearn.model_selection import train_test_split\n",
        "from sklearn.preprocessing import StandardScaler\n",
        "from sklearn.model_selection import RandomizedSearchCV\n",
        "\n",
        "# Model klasifikasi\n",
        "from sklearn.neighbors import KNeighborsClassifier\n",
        "from sklearn.naive_bayes import GaussianNB\n",
        "\n",
        "# Evaluasi model\n",
        "from sklearn.metrics import accuracy_score, classification_report, confusion_matrix, f1_score, precision_score, recall_score, ConfusionMatrixDisplay\n",
        "from scipy.stats import randint\n",
        "\n",
        "# Impot Dataset\n",
        "from google.colab import drive\n",
        "drive.mount('/content/drive')"
      ],
      "metadata": {
        "id": "BlmvjLY9M4Yj",
        "colab": {
          "base_uri": "https://localhost:8080/"
        },
        "outputId": "558bccd6-49e5-4ca2-b107-ba8a418bc1d4"
      },
      "execution_count": 1,
      "outputs": [
        {
          "output_type": "stream",
          "name": "stdout",
          "text": [
            "Mounted at /content/drive\n"
          ]
        }
      ]
    },
    {
      "cell_type": "markdown",
      "source": [
        "# **2. Memuat Dataset dari Hasil Clustering**"
      ],
      "metadata": {
        "id": "f3YIEnAFKrKL"
      }
    },
    {
      "cell_type": "markdown",
      "source": [
        "Memuat dataset hasil clustering dari file CSV ke dalam variabel DataFrame."
      ],
      "metadata": {
        "id": "Ey3ItwTen_7E"
      }
    },
    {
      "cell_type": "code",
      "source": [
        "file_path = '/content/drive/MyDrive/Colab Notebooks/hasil_clustering.csv'\n",
        "df = pd.read_csv(file_path)\n",
        "\n",
        "df.head()"
      ],
      "metadata": {
        "id": "GHCGNTyrM5fS",
        "colab": {
          "base_uri": "https://localhost:8080/",
          "height": 206
        },
        "outputId": "c3520f96-6a3d-44be-eea3-b9c4202c81bb"
      },
      "execution_count": 2,
      "outputs": [
        {
          "output_type": "execute_result",
          "data": {
            "text/plain": [
              "  Order_ID Customer_ID Customer_Type             Product     Category  \\\n",
              "0     ORD1     CUS1496           B2B          Vio Wasser        Water   \n",
              "1     ORD1     CUS1496           B2B               Evian        Water   \n",
              "2     ORD1     CUS1496           B2B              Sprite  Soft Drinks   \n",
              "3     ORD1     CUS1496           B2B  Rauch Multivitamin       Juices   \n",
              "4     ORD1     CUS1496           B2B        Gerolsteiner        Water   \n",
              "\n",
              "   Unit_Price  Quantity  Discount  Total_Price             Region  Order_Date  \\\n",
              "0        1.66        53      0.10        79.18  Baden-Württemberg  2023-08-23   \n",
              "1        1.56        90      0.10       126.36  Baden-Württemberg  2023-08-23   \n",
              "2        1.17        73      0.05        81.14  Baden-Württemberg  2023-08-23   \n",
              "3        3.22        59      0.10       170.98  Baden-Württemberg  2023-08-23   \n",
              "4        0.87        35      0.10        27.40  Baden-Württemberg  2023-08-23   \n",
              "\n",
              "   Revenue_per_Unit  Cluster  \n",
              "0          1.493962        0  \n",
              "1          1.404000        0  \n",
              "2          1.111507        0  \n",
              "3          2.897966        0  \n",
              "4          0.782857        0  "
            ],
            "text/html": [
              "\n",
              "  <div id=\"df-0e1dae28-11ef-4df1-86e8-f4501f5f4740\" class=\"colab-df-container\">\n",
              "    <div>\n",
              "<style scoped>\n",
              "    .dataframe tbody tr th:only-of-type {\n",
              "        vertical-align: middle;\n",
              "    }\n",
              "\n",
              "    .dataframe tbody tr th {\n",
              "        vertical-align: top;\n",
              "    }\n",
              "\n",
              "    .dataframe thead th {\n",
              "        text-align: right;\n",
              "    }\n",
              "</style>\n",
              "<table border=\"1\" class=\"dataframe\">\n",
              "  <thead>\n",
              "    <tr style=\"text-align: right;\">\n",
              "      <th></th>\n",
              "      <th>Order_ID</th>\n",
              "      <th>Customer_ID</th>\n",
              "      <th>Customer_Type</th>\n",
              "      <th>Product</th>\n",
              "      <th>Category</th>\n",
              "      <th>Unit_Price</th>\n",
              "      <th>Quantity</th>\n",
              "      <th>Discount</th>\n",
              "      <th>Total_Price</th>\n",
              "      <th>Region</th>\n",
              "      <th>Order_Date</th>\n",
              "      <th>Revenue_per_Unit</th>\n",
              "      <th>Cluster</th>\n",
              "    </tr>\n",
              "  </thead>\n",
              "  <tbody>\n",
              "    <tr>\n",
              "      <th>0</th>\n",
              "      <td>ORD1</td>\n",
              "      <td>CUS1496</td>\n",
              "      <td>B2B</td>\n",
              "      <td>Vio Wasser</td>\n",
              "      <td>Water</td>\n",
              "      <td>1.66</td>\n",
              "      <td>53</td>\n",
              "      <td>0.10</td>\n",
              "      <td>79.18</td>\n",
              "      <td>Baden-Württemberg</td>\n",
              "      <td>2023-08-23</td>\n",
              "      <td>1.493962</td>\n",
              "      <td>0</td>\n",
              "    </tr>\n",
              "    <tr>\n",
              "      <th>1</th>\n",
              "      <td>ORD1</td>\n",
              "      <td>CUS1496</td>\n",
              "      <td>B2B</td>\n",
              "      <td>Evian</td>\n",
              "      <td>Water</td>\n",
              "      <td>1.56</td>\n",
              "      <td>90</td>\n",
              "      <td>0.10</td>\n",
              "      <td>126.36</td>\n",
              "      <td>Baden-Württemberg</td>\n",
              "      <td>2023-08-23</td>\n",
              "      <td>1.404000</td>\n",
              "      <td>0</td>\n",
              "    </tr>\n",
              "    <tr>\n",
              "      <th>2</th>\n",
              "      <td>ORD1</td>\n",
              "      <td>CUS1496</td>\n",
              "      <td>B2B</td>\n",
              "      <td>Sprite</td>\n",
              "      <td>Soft Drinks</td>\n",
              "      <td>1.17</td>\n",
              "      <td>73</td>\n",
              "      <td>0.05</td>\n",
              "      <td>81.14</td>\n",
              "      <td>Baden-Württemberg</td>\n",
              "      <td>2023-08-23</td>\n",
              "      <td>1.111507</td>\n",
              "      <td>0</td>\n",
              "    </tr>\n",
              "    <tr>\n",
              "      <th>3</th>\n",
              "      <td>ORD1</td>\n",
              "      <td>CUS1496</td>\n",
              "      <td>B2B</td>\n",
              "      <td>Rauch Multivitamin</td>\n",
              "      <td>Juices</td>\n",
              "      <td>3.22</td>\n",
              "      <td>59</td>\n",
              "      <td>0.10</td>\n",
              "      <td>170.98</td>\n",
              "      <td>Baden-Württemberg</td>\n",
              "      <td>2023-08-23</td>\n",
              "      <td>2.897966</td>\n",
              "      <td>0</td>\n",
              "    </tr>\n",
              "    <tr>\n",
              "      <th>4</th>\n",
              "      <td>ORD1</td>\n",
              "      <td>CUS1496</td>\n",
              "      <td>B2B</td>\n",
              "      <td>Gerolsteiner</td>\n",
              "      <td>Water</td>\n",
              "      <td>0.87</td>\n",
              "      <td>35</td>\n",
              "      <td>0.10</td>\n",
              "      <td>27.40</td>\n",
              "      <td>Baden-Württemberg</td>\n",
              "      <td>2023-08-23</td>\n",
              "      <td>0.782857</td>\n",
              "      <td>0</td>\n",
              "    </tr>\n",
              "  </tbody>\n",
              "</table>\n",
              "</div>\n",
              "    <div class=\"colab-df-buttons\">\n",
              "\n",
              "  <div class=\"colab-df-container\">\n",
              "    <button class=\"colab-df-convert\" onclick=\"convertToInteractive('df-0e1dae28-11ef-4df1-86e8-f4501f5f4740')\"\n",
              "            title=\"Convert this dataframe to an interactive table.\"\n",
              "            style=\"display:none;\">\n",
              "\n",
              "  <svg xmlns=\"http://www.w3.org/2000/svg\" height=\"24px\" viewBox=\"0 -960 960 960\">\n",
              "    <path d=\"M120-120v-720h720v720H120Zm60-500h600v-160H180v160Zm220 220h160v-160H400v160Zm0 220h160v-160H400v160ZM180-400h160v-160H180v160Zm440 0h160v-160H620v160ZM180-180h160v-160H180v160Zm440 0h160v-160H620v160Z\"/>\n",
              "  </svg>\n",
              "    </button>\n",
              "\n",
              "  <style>\n",
              "    .colab-df-container {\n",
              "      display:flex;\n",
              "      gap: 12px;\n",
              "    }\n",
              "\n",
              "    .colab-df-convert {\n",
              "      background-color: #E8F0FE;\n",
              "      border: none;\n",
              "      border-radius: 50%;\n",
              "      cursor: pointer;\n",
              "      display: none;\n",
              "      fill: #1967D2;\n",
              "      height: 32px;\n",
              "      padding: 0 0 0 0;\n",
              "      width: 32px;\n",
              "    }\n",
              "\n",
              "    .colab-df-convert:hover {\n",
              "      background-color: #E2EBFA;\n",
              "      box-shadow: 0px 1px 2px rgba(60, 64, 67, 0.3), 0px 1px 3px 1px rgba(60, 64, 67, 0.15);\n",
              "      fill: #174EA6;\n",
              "    }\n",
              "\n",
              "    .colab-df-buttons div {\n",
              "      margin-bottom: 4px;\n",
              "    }\n",
              "\n",
              "    [theme=dark] .colab-df-convert {\n",
              "      background-color: #3B4455;\n",
              "      fill: #D2E3FC;\n",
              "    }\n",
              "\n",
              "    [theme=dark] .colab-df-convert:hover {\n",
              "      background-color: #434B5C;\n",
              "      box-shadow: 0px 1px 3px 1px rgba(0, 0, 0, 0.15);\n",
              "      filter: drop-shadow(0px 1px 2px rgba(0, 0, 0, 0.3));\n",
              "      fill: #FFFFFF;\n",
              "    }\n",
              "  </style>\n",
              "\n",
              "    <script>\n",
              "      const buttonEl =\n",
              "        document.querySelector('#df-0e1dae28-11ef-4df1-86e8-f4501f5f4740 button.colab-df-convert');\n",
              "      buttonEl.style.display =\n",
              "        google.colab.kernel.accessAllowed ? 'block' : 'none';\n",
              "\n",
              "      async function convertToInteractive(key) {\n",
              "        const element = document.querySelector('#df-0e1dae28-11ef-4df1-86e8-f4501f5f4740');\n",
              "        const dataTable =\n",
              "          await google.colab.kernel.invokeFunction('convertToInteractive',\n",
              "                                                    [key], {});\n",
              "        if (!dataTable) return;\n",
              "\n",
              "        const docLinkHtml = 'Like what you see? Visit the ' +\n",
              "          '<a target=\"_blank\" href=https://colab.research.google.com/notebooks/data_table.ipynb>data table notebook</a>'\n",
              "          + ' to learn more about interactive tables.';\n",
              "        element.innerHTML = '';\n",
              "        dataTable['output_type'] = 'display_data';\n",
              "        await google.colab.output.renderOutput(dataTable, element);\n",
              "        const docLink = document.createElement('div');\n",
              "        docLink.innerHTML = docLinkHtml;\n",
              "        element.appendChild(docLink);\n",
              "      }\n",
              "    </script>\n",
              "  </div>\n",
              "\n",
              "\n",
              "<div id=\"df-2aca38f4-a068-499b-8963-5d7d6aa8ed55\">\n",
              "  <button class=\"colab-df-quickchart\" onclick=\"quickchart('df-2aca38f4-a068-499b-8963-5d7d6aa8ed55')\"\n",
              "            title=\"Suggest charts\"\n",
              "            style=\"display:none;\">\n",
              "\n",
              "<svg xmlns=\"http://www.w3.org/2000/svg\" height=\"24px\"viewBox=\"0 0 24 24\"\n",
              "     width=\"24px\">\n",
              "    <g>\n",
              "        <path d=\"M19 3H5c-1.1 0-2 .9-2 2v14c0 1.1.9 2 2 2h14c1.1 0 2-.9 2-2V5c0-1.1-.9-2-2-2zM9 17H7v-7h2v7zm4 0h-2V7h2v10zm4 0h-2v-4h2v4z\"/>\n",
              "    </g>\n",
              "</svg>\n",
              "  </button>\n",
              "\n",
              "<style>\n",
              "  .colab-df-quickchart {\n",
              "      --bg-color: #E8F0FE;\n",
              "      --fill-color: #1967D2;\n",
              "      --hover-bg-color: #E2EBFA;\n",
              "      --hover-fill-color: #174EA6;\n",
              "      --disabled-fill-color: #AAA;\n",
              "      --disabled-bg-color: #DDD;\n",
              "  }\n",
              "\n",
              "  [theme=dark] .colab-df-quickchart {\n",
              "      --bg-color: #3B4455;\n",
              "      --fill-color: #D2E3FC;\n",
              "      --hover-bg-color: #434B5C;\n",
              "      --hover-fill-color: #FFFFFF;\n",
              "      --disabled-bg-color: #3B4455;\n",
              "      --disabled-fill-color: #666;\n",
              "  }\n",
              "\n",
              "  .colab-df-quickchart {\n",
              "    background-color: var(--bg-color);\n",
              "    border: none;\n",
              "    border-radius: 50%;\n",
              "    cursor: pointer;\n",
              "    display: none;\n",
              "    fill: var(--fill-color);\n",
              "    height: 32px;\n",
              "    padding: 0;\n",
              "    width: 32px;\n",
              "  }\n",
              "\n",
              "  .colab-df-quickchart:hover {\n",
              "    background-color: var(--hover-bg-color);\n",
              "    box-shadow: 0 1px 2px rgba(60, 64, 67, 0.3), 0 1px 3px 1px rgba(60, 64, 67, 0.15);\n",
              "    fill: var(--button-hover-fill-color);\n",
              "  }\n",
              "\n",
              "  .colab-df-quickchart-complete:disabled,\n",
              "  .colab-df-quickchart-complete:disabled:hover {\n",
              "    background-color: var(--disabled-bg-color);\n",
              "    fill: var(--disabled-fill-color);\n",
              "    box-shadow: none;\n",
              "  }\n",
              "\n",
              "  .colab-df-spinner {\n",
              "    border: 2px solid var(--fill-color);\n",
              "    border-color: transparent;\n",
              "    border-bottom-color: var(--fill-color);\n",
              "    animation:\n",
              "      spin 1s steps(1) infinite;\n",
              "  }\n",
              "\n",
              "  @keyframes spin {\n",
              "    0% {\n",
              "      border-color: transparent;\n",
              "      border-bottom-color: var(--fill-color);\n",
              "      border-left-color: var(--fill-color);\n",
              "    }\n",
              "    20% {\n",
              "      border-color: transparent;\n",
              "      border-left-color: var(--fill-color);\n",
              "      border-top-color: var(--fill-color);\n",
              "    }\n",
              "    30% {\n",
              "      border-color: transparent;\n",
              "      border-left-color: var(--fill-color);\n",
              "      border-top-color: var(--fill-color);\n",
              "      border-right-color: var(--fill-color);\n",
              "    }\n",
              "    40% {\n",
              "      border-color: transparent;\n",
              "      border-right-color: var(--fill-color);\n",
              "      border-top-color: var(--fill-color);\n",
              "    }\n",
              "    60% {\n",
              "      border-color: transparent;\n",
              "      border-right-color: var(--fill-color);\n",
              "    }\n",
              "    80% {\n",
              "      border-color: transparent;\n",
              "      border-right-color: var(--fill-color);\n",
              "      border-bottom-color: var(--fill-color);\n",
              "    }\n",
              "    90% {\n",
              "      border-color: transparent;\n",
              "      border-bottom-color: var(--fill-color);\n",
              "    }\n",
              "  }\n",
              "</style>\n",
              "\n",
              "  <script>\n",
              "    async function quickchart(key) {\n",
              "      const quickchartButtonEl =\n",
              "        document.querySelector('#' + key + ' button');\n",
              "      quickchartButtonEl.disabled = true;  // To prevent multiple clicks.\n",
              "      quickchartButtonEl.classList.add('colab-df-spinner');\n",
              "      try {\n",
              "        const charts = await google.colab.kernel.invokeFunction(\n",
              "            'suggestCharts', [key], {});\n",
              "      } catch (error) {\n",
              "        console.error('Error during call to suggestCharts:', error);\n",
              "      }\n",
              "      quickchartButtonEl.classList.remove('colab-df-spinner');\n",
              "      quickchartButtonEl.classList.add('colab-df-quickchart-complete');\n",
              "    }\n",
              "    (() => {\n",
              "      let quickchartButtonEl =\n",
              "        document.querySelector('#df-2aca38f4-a068-499b-8963-5d7d6aa8ed55 button');\n",
              "      quickchartButtonEl.style.display =\n",
              "        google.colab.kernel.accessAllowed ? 'block' : 'none';\n",
              "    })();\n",
              "  </script>\n",
              "</div>\n",
              "\n",
              "    </div>\n",
              "  </div>\n"
            ],
            "application/vnd.google.colaboratory.intrinsic+json": {
              "type": "dataframe",
              "variable_name": "df",
              "summary": "{\n  \"name\": \"df\",\n  \"rows\": 5000,\n  \"fields\": [\n    {\n      \"column\": \"Order_ID\",\n      \"properties\": {\n        \"dtype\": \"category\",\n        \"num_unique_values\": 1732,\n        \"samples\": [\n          \"ORD606\",\n          \"ORD1728\",\n          \"ORD636\"\n        ],\n        \"semantic_type\": \"\",\n        \"description\": \"\"\n      }\n    },\n    {\n      \"column\": \"Customer_ID\",\n      \"properties\": {\n        \"dtype\": \"category\",\n        \"num_unique_values\": 1580,\n        \"samples\": [\n          \"CUS1183\",\n          \"CUS4017\",\n          \"CUS4033\"\n        ],\n        \"semantic_type\": \"\",\n        \"description\": \"\"\n      }\n    },\n    {\n      \"column\": \"Customer_Type\",\n      \"properties\": {\n        \"dtype\": \"category\",\n        \"num_unique_values\": 2,\n        \"samples\": [\n          \"B2C\",\n          \"B2B\"\n        ],\n        \"semantic_type\": \"\",\n        \"description\": \"\"\n      }\n    },\n    {\n      \"column\": \"Product\",\n      \"properties\": {\n        \"dtype\": \"category\",\n        \"num_unique_values\": 47,\n        \"samples\": [\n          \"Fritz-Kola\",\n          \"Bacardi\"\n        ],\n        \"semantic_type\": \"\",\n        \"description\": \"\"\n      }\n    },\n    {\n      \"column\": \"Category\",\n      \"properties\": {\n        \"dtype\": \"category\",\n        \"num_unique_values\": 4,\n        \"samples\": [\n          \"Soft Drinks\",\n          \"Alcoholic Beverages\"\n        ],\n        \"semantic_type\": \"\",\n        \"description\": \"\"\n      }\n    },\n    {\n      \"column\": \"Unit_Price\",\n      \"properties\": {\n        \"dtype\": \"number\",\n        \"std\": 6.456359257929339,\n        \"min\": 0.32,\n        \"max\": 49.42,\n        \"num_unique_values\": 565,\n        \"samples\": [\n          2.73,\n          3.38\n        ],\n        \"semantic_type\": \"\",\n        \"description\": \"\"\n      }\n    },\n    {\n      \"column\": \"Quantity\",\n      \"properties\": {\n        \"dtype\": \"number\",\n        \"std\": 26,\n        \"min\": 1,\n        \"max\": 100,\n        \"num_unique_values\": 100,\n        \"samples\": [\n          63,\n          94\n        ],\n        \"semantic_type\": \"\",\n        \"description\": \"\"\n      }\n    },\n    {\n      \"column\": \"Discount\",\n      \"properties\": {\n        \"dtype\": \"number\",\n        \"std\": 0.04397029312314738,\n        \"min\": 0.0,\n        \"max\": 0.15,\n        \"num_unique_values\": 4,\n        \"samples\": [\n          0.05,\n          0.15\n        ],\n        \"semantic_type\": \"\",\n        \"description\": \"\"\n      }\n    },\n    {\n      \"column\": \"Total_Price\",\n      \"properties\": {\n        \"dtype\": \"number\",\n        \"std\": 145.27735249243932,\n        \"min\": 0.4,\n        \"max\": 1651.43,\n        \"num_unique_values\": 2599,\n        \"samples\": [\n          79.25,\n          5.86\n        ],\n        \"semantic_type\": \"\",\n        \"description\": \"\"\n      }\n    },\n    {\n      \"column\": \"Region\",\n      \"properties\": {\n        \"dtype\": \"category\",\n        \"num_unique_values\": 16,\n        \"samples\": [\n          \"Baden-W\\u00fcrttemberg\",\n          \"Schleswig-Holstein\"\n        ],\n        \"semantic_type\": \"\",\n        \"description\": \"\"\n      }\n    },\n    {\n      \"column\": \"Order_Date\",\n      \"properties\": {\n        \"dtype\": \"object\",\n        \"num_unique_values\": 868,\n        \"samples\": [\n          \"2021-12-12\",\n          \"2023-03-03\"\n        ],\n        \"semantic_type\": \"\",\n        \"description\": \"\"\n      }\n    },\n    {\n      \"column\": \"Revenue_per_Unit\",\n      \"properties\": {\n        \"dtype\": \"number\",\n        \"std\": 6.316460994062816,\n        \"min\": 0.304054054054054,\n        \"max\": 48.790000000000006,\n        \"num_unique_values\": 1719,\n        \"samples\": [\n          1.781978021978022,\n          1.38703125\n        ],\n        \"semantic_type\": \"\",\n        \"description\": \"\"\n      }\n    },\n    {\n      \"column\": \"Cluster\",\n      \"properties\": {\n        \"dtype\": \"number\",\n        \"std\": 0,\n        \"min\": 0,\n        \"max\": 1,\n        \"num_unique_values\": 2,\n        \"samples\": [\n          1,\n          0\n        ],\n        \"semantic_type\": \"\",\n        \"description\": \"\"\n      }\n    }\n  ]\n}"
            }
          },
          "metadata": {},
          "execution_count": 2
        }
      ]
    },
    {
      "cell_type": "markdown",
      "source": [
        "# **3. Data Splitting**"
      ],
      "metadata": {
        "id": "KkPem5eWL2UP"
      }
    },
    {
      "cell_type": "markdown",
      "source": [
        "Tahap Data Splitting bertujuan untuk memisahkan dataset menjadi dua bagian: data latih (training set) dan data uji (test set)."
      ],
      "metadata": {
        "id": "YYj1rl_JNI9Y"
      }
    },
    {
      "cell_type": "code",
      "source": [
        "df_clean = df.copy()\n",
        "\n",
        "num_cols = ['Unit_Price', 'Quantity', 'Discount', 'Total_Price']\n",
        "df_clean_subset = df_clean[num_cols + ['Cluster']].copy()\n",
        "\n",
        "X = df_clean_subset.drop(columns=['Cluster'])  # fitur\n",
        "y = df_clean_subset['Cluster']                 # label\n",
        "\n",
        "X_train, X_test, y_train, y_test = train_test_split(\n",
        "    X, y, test_size=0.2, random_state=42, stratify=y\n",
        ")\n",
        "\n",
        "print(\"Jumlah data training:\", len(X_train))\n",
        "print(\"Jumlah data testing:\", len(X_test))"
      ],
      "metadata": {
        "id": "OubAW-7ONKVj",
        "colab": {
          "base_uri": "https://localhost:8080/"
        },
        "outputId": "a6f50fc3-6f79-4ba6-cc2b-963222f71ceb"
      },
      "execution_count": 3,
      "outputs": [
        {
          "output_type": "stream",
          "name": "stdout",
          "text": [
            "Jumlah data training: 4000\n",
            "Jumlah data testing: 1000\n"
          ]
        }
      ]
    },
    {
      "cell_type": "markdown",
      "source": [
        "# **4. Membangun Model Klasifikasi**\n"
      ],
      "metadata": {
        "id": "IVPbB03CMhTT"
      }
    },
    {
      "cell_type": "markdown",
      "source": [
        "## **a. Membangun Model Klasifikasi**"
      ],
      "metadata": {
        "id": "Ned1pL9zMmBK"
      }
    },
    {
      "cell_type": "markdown",
      "source": [
        "Setelah memilih algoritma klasifikasi yang sesuai, langkah selanjutnya adalah melatih model menggunakan data latih.\n",
        "\n",
        "Berikut adalah rekomendasi tahapannya.\n",
        "1. Pilih algoritma klasifikasi yang sesuai, seperti Logistic Regression, Decision Tree, Random Forest, atau K-Nearest Neighbors (KNN).\n",
        "2. Latih model menggunakan data latih."
      ],
      "metadata": {
        "id": "WAWzPOE4Nkti"
      }
    },
    {
      "cell_type": "code",
      "source": [
        "# 1. Klasifikasi KNN\n",
        "knn = KNeighborsClassifier(n_neighbors=5)\n",
        "knn.fit(X_train, y_train)\n",
        "y_pred_knn = knn.predict(X_test)\n",
        "\n",
        "# 2. Klasifikasi Naive Bayes\n",
        "nb = GaussianNB()\n",
        "nb.fit(X_train, y_train)\n",
        "y_pred_nb = nb.predict(X_test)\n"
      ],
      "metadata": {
        "id": "4JYxBe87NLDk"
      },
      "execution_count": 4,
      "outputs": []
    },
    {
      "cell_type": "markdown",
      "source": [
        "1. **K-Nearest Neighbors (KNN)**\n",
        "\n",
        "Algoritma K-Nearest Neighbors (KNN) adalah salah satu metode klasifikasi yang berbasis pada prinsip kedekatan atau jarak antara data. Pada dasarnya, KNN tidak melakukan proses pembelajaran eksplisit, melainkan menyimpan seluruh data pelatihan dan melakukan prediksi berdasarkan kedekatan data uji terhadap data latih.\n",
        "\n",
        "Dalam implementasi ini, digunakan n_neighbors=5, artinya untuk setiap data uji, KNN akan melihat 5 data latih terdekat berdasarkan jarak (biasanya Euclidean distance). Kelas mayoritas dari kelima tetangga tersebut akan menjadi hasil prediksi.\n",
        "\n",
        "KNN sangat bergantung pada skala fitur dan sensitivitas terhadap outlier, sehingga preprocessing seperti normalisasi/standarisasi menjadi penting. Algoritma ini cocok digunakan ketika data memiliki struktur yang jelas dan tidak terlalu besar secara ukuran.\n",
        "\n",
        "2. **Naive Bayes**\n",
        "\n",
        "Naive Bayes adalah algoritma klasifikasi berbasis probabilistik yang menggunakan Teorema Bayes dengan asumsi sederhana (naive) bahwa setiap fitur bersifat independen satu sama lain terhadap kelas target. Meskipun asumsi ini jarang sepenuhnya terpenuhi dalam data nyata, Naive Bayes tetap memberikan performa yang baik dalam banyak kasus.\n",
        "\n",
        "Dalam proyek ini, digunakan Gaussian Naive Bayes, yang mengasumsikan bahwa nilai fitur-fitur numerik terdistribusi normal (Gaussian). Algoritma ini menghitung probabilitas setiap kelas yang mungkin untuk data uji, dan memilih kelas dengan probabilitas tertinggi sebagai prediksi.\n",
        "\n",
        "Naive Bayes cenderung cepat dalam pelatihan dan prediksi, serta cukup kuat untuk dataset berukuran besar. Kelemahannya terletak pada performa yang menurun jika fitur-fitur memiliki korelasi tinggi satu sama lain.\n",
        "\n"
      ],
      "metadata": {
        "id": "seYoHNY3XU1y"
      }
    },
    {
      "cell_type": "markdown",
      "source": [
        "## **b. Evaluasi Model Klasifikasi**"
      ],
      "metadata": {
        "id": "ergzChZFEL-O"
      }
    },
    {
      "cell_type": "markdown",
      "source": [
        "Berikut adalah **rekomendasi** tahapannya.\n",
        "1. Lakukan prediksi menggunakan data uji.\n",
        "2. Hitung metrik evaluasi seperti Accuracy dan F1-Score (Opsional: Precision dan Recall).\n",
        "3. Buat confusion matrix untuk melihat detail prediksi benar dan salah."
      ],
      "metadata": {
        "id": "zOm68u-7NpLT"
      }
    },
    {
      "cell_type": "code",
      "source": [
        "# Fungsi evaluasi dan visualisasi confusion matrix\n",
        "def evaluate_model(name, y_true, y_pred):\n",
        "    acc = accuracy_score(y_true, y_pred)\n",
        "    f1 = f1_score(y_true, y_pred, average='weighted')\n",
        "    precision = precision_score(y_true, y_pred, average='weighted')\n",
        "    recall = recall_score(y_true, y_pred, average='weighted')\n",
        "\n",
        "    print(f\"\\n>> Evaluasi Model: {name}\")\n",
        "    print(f\"Akurasi     : {acc:.4f}\")\n",
        "    print(f\"F1-Score    : {f1:.4f}\")\n",
        "    print(f\"Precision   : {precision:.4f}\")\n",
        "    print(f\"Recall      : {recall:.4f}\")\n",
        "\n",
        "    cm = confusion_matrix(y_true, y_pred)\n",
        "    plt.figure(figsize=(5,4))\n",
        "    sns.heatmap(cm, annot=True, fmt='d', cmap='Blues')\n",
        "    plt.title(f\"Confusion Matrix - {name}\")\n",
        "    plt.xlabel(\"Predicted\")\n",
        "    plt.ylabel(\"Actual\")\n",
        "    plt.show()\n",
        "\n",
        "# ===== Evaluasi KNN =====\n",
        "y_pred_knn = knn.predict(X_test)\n",
        "evaluate_model(\"K-Nearest Neighbors\", y_test, y_pred_knn)\n",
        "\n",
        "# ===== Evaluasi Naive Bayes =====\n",
        "y_pred_nb = nb.predict(X_test)\n",
        "evaluate_model(\"Naive Bayes\", y_test, y_pred_nb)"
      ],
      "metadata": {
        "id": "tMq4QAssNLip",
        "colab": {
          "base_uri": "https://localhost:8080/",
          "height": 1000
        },
        "outputId": "ec312a38-ad58-4afd-f869-3eede1c4f42f"
      },
      "execution_count": 5,
      "outputs": [
        {
          "output_type": "stream",
          "name": "stdout",
          "text": [
            "\n",
            ">> Evaluasi Model: K-Nearest Neighbors\n",
            "Akurasi     : 0.9960\n",
            "F1-Score    : 0.9960\n",
            "Precision   : 0.9960\n",
            "Recall      : 0.9960\n"
          ]
        },
        {
          "output_type": "display_data",
          "data": {
            "text/plain": [
              "<Figure size 500x400 with 2 Axes>"
            ],
            "image/png": "[encoded data removed]"
          },
          "metadata": {}
        },
        {
          "output_type": "stream",
          "name": "stdout",
          "text": [
            "\n",
            ">> Evaluasi Model: Naive Bayes\n",
            "Akurasi     : 0.9660\n",
            "F1-Score    : 0.9707\n",
            "Precision   : 0.9814\n",
            "Recall      : 0.9660\n"
          ]
        },
        {
          "output_type": "display_data",
          "data": {
            "text/plain": [
              "<Figure size 500x400 with 2 Axes>"
            ],
            "image/png": "[encoded data removed]"
          },
          "metadata": {}
        }
      ]
    },
    {
      "cell_type": "markdown",
      "source": [
        "Tulis hasil evaluasi algoritma yang digunakan, jika Anda menggunakan 2 algoritma, maka bandingkan hasilnya."
      ],
      "metadata": {
        "id": "H4_9OwrsXZlz"
      }
    },
    {
      "cell_type": "markdown",
      "source": [
        "## **c. Tuning Model Klasifikasi (Optional)**"
      ],
      "metadata": {
        "id": "ph9yIYDXEPuB"
      }
    },
    {
      "cell_type": "markdown",
      "source": [
        "Gunakan GridSearchCV, RandomizedSearchCV, atau metode lainnya untuk mencari kombinasi hyperparameter terbaik"
      ],
      "metadata": {
        "id": "-Bikx3LINv5e"
      }
    },
    {
      "cell_type": "code",
      "source": [
        "# ===== Tuning KNN =====\n",
        "param_dist_knn = {\n",
        "    'n_neighbors': randint(3, 20),\n",
        "    'weights': ['uniform', 'distance'],\n",
        "    'metric': ['euclidean', 'manhattan', 'minkowski']\n",
        "}\n",
        "\n",
        "knn = KNeighborsClassifier()\n",
        "rand_search_knn = RandomizedSearchCV(knn, param_distributions=param_dist_knn,\n",
        "                                     n_iter=20, cv=5, scoring='accuracy', random_state=42, n_jobs=-1)\n",
        "rand_search_knn.fit(X_train, y_train)\n",
        "\n",
        "print(\">> Best parameters for KNN:\")\n",
        "print(rand_search_knn.best_params_)\n",
        "\n",
        "# ===== Tuning Naive Bayes =====\n",
        "param_dist_nb = {\n",
        "    'var_smoothing': np.logspace(-11, -7, num=100)\n",
        "}\n",
        "\n",
        "nb = GaussianNB()\n",
        "rand_search_nb = RandomizedSearchCV(nb, param_distributions=param_dist_nb,\n",
        "                                    n_iter=20, cv=5, scoring='accuracy', random_state=42, n_jobs=-1)\n",
        "rand_search_nb.fit(X_train, y_train)\n",
        "\n",
        "print(\"\\n>> Best parameters for Naive Bayes:\")\n",
        "print(rand_search_nb.best_params_)"
      ],
      "metadata": {
        "id": "winbFzb8NL95",
        "colab": {
          "base_uri": "https://localhost:8080/"
        },
        "outputId": "8ee416b2-c318-4c39-d8be-4b725505aabe"
      },
      "execution_count": 6,
      "outputs": [
        {
          "output_type": "stream",
          "name": "stdout",
          "text": [
            ">> Best parameters for KNN:\n",
            "{'metric': 'manhattan', 'n_neighbors': 8, 'weights': 'distance'}\n",
            "\n",
            ">> Best parameters for Naive Bayes:\n",
            "{'var_smoothing': np.float64(4.328761281083061e-08)}\n"
          ]
        }
      ]
    },
    {
      "cell_type": "markdown",
      "source": [
        "## **d. Evaluasi Model Klasifikasi setelah Tuning (Optional)**"
      ],
      "metadata": {
        "id": "hE7pqlEPEYzI"
      }
    },
    {
      "cell_type": "markdown",
      "source": [
        "Berikut adalah rekomendasi tahapannya.\n",
        "1. Gunakan model dengan hyperparameter terbaik.\n",
        "2. Hitung ulang metrik evaluasi untuk melihat apakah ada peningkatan performa."
      ],
      "metadata": {
        "id": "feaPESoeN0zz"
      }
    },
    {
      "cell_type": "code",
      "source": [
        "# ===== Evaluasi KNN terbaik =====\n",
        "best_knn = rand_search_knn.best_estimator_\n",
        "y_pred_knn_best = best_knn.predict(X_test)\n",
        "\n",
        "print(\">> Evaluasi KNN (Setelah Tuning):\")\n",
        "print(\"Accuracy:\", accuracy_score(y_test, y_pred_knn_best))\n",
        "print(\"F1 Score:\", f1_score(y_test, y_pred_knn_best, average='macro'))\n",
        "print(\"Precision:\", precision_score(y_test, y_pred_knn_best, average='macro'))\n",
        "print(\"Recall:\", recall_score(y_test, y_pred_knn_best, average='macro'))\n",
        "\n",
        "cm_knn = confusion_matrix(y_test, y_pred_knn_best)\n",
        "disp_knn = ConfusionMatrixDisplay(confusion_matrix=cm_knn)\n",
        "disp_knn.plot()\n",
        "plt.title(\"Confusion Matrix - KNN (Tuned)\")\n",
        "plt.show()\n",
        "\n",
        "\n",
        "# ===== Evaluasi Naive Bayes terbaik =====\n",
        "best_nb = rand_search_nb.best_estimator_\n",
        "y_pred_nb_best = best_nb.predict(X_test)\n",
        "\n",
        "print(\"\\n>> Evaluasi Naive Bayes (Setelah Tuning):\")\n",
        "print(\"Accuracy:\", accuracy_score(y_test, y_pred_nb_best))\n",
        "print(\"F1 Score:\", f1_score(y_test, y_pred_nb_best, average='macro'))\n",
        "print(\"Precision:\", precision_score(y_test, y_pred_nb_best, average='macro'))\n",
        "print(\"Recall:\", recall_score(y_test, y_pred_nb_best, average='macro'))\n",
        "\n",
        "cm_nb = confusion_matrix(y_test, y_pred_nb_best)\n",
        "disp_nb = ConfusionMatrixDisplay(confusion_matrix=cm_nb)\n",
        "disp_nb.plot()\n",
        "plt.title(\"Confusion Matrix - Naive Bayes (Tuned)\")\n",
        "plt.show()"
      ],
      "metadata": {
        "id": "HTXZRvEeNMb1",
        "colab": {
          "base_uri": "https://localhost:8080/",
          "height": 1000
        },
        "outputId": "8a07e6d0-1ce9-49b4-a078-c5ec3409f661"
      },
      "execution_count": 7,
      "outputs": [
        {
          "output_type": "stream",
          "name": "stdout",
          "text": [
            ">> Evaluasi KNN (Setelah Tuning):\n",
            "Accuracy: 0.998\n",
            "F1 Score: 0.9875733174271797\n",
            "Precision: 0.9767441860465116\n",
            "Recall: 0.9989572471324296\n"
          ]
        },
        {
          "output_type": "display_data",
          "data": {
            "text/plain": [
              "<Figure size 640x480 with 2 Axes>"
            ],
            "image/png": "[encoded data removed]"
          },
          "metadata": {}
        },
        {
          "output_type": "stream",
          "name": "stdout",
          "text": [
            "\n",
            ">> Evaluasi Naive Bayes (Setelah Tuning):\n",
            "Accuracy: 0.966\n",
            "F1 Score: 0.8444249212973132\n",
            "Precision: 0.7733333333333333\n",
            "Recall: 0.9822732012513035\n"
          ]
        },
        {
          "output_type": "display_data",
          "data": {
            "text/plain": [
              "<Figure size 640x480 with 2 Axes>"
            ],
            "image/png": "[encoded data removed]"
          },
          "metadata": {}
        }
      ]
    },
    {
      "cell_type": "markdown",
      "source": [
        "## **e. Analisis Hasil Evaluasi Model Klasifikasi**"
      ],
      "metadata": {
        "id": "ZRsOdm4uEgAW"
      }
    },
    {
      "cell_type": "markdown",
      "source": [
        "1. **Perbandingan Hasil Evaluasi Sebelum dan Setelah Tuning**\n",
        "\n",
        "Model K-Nearest Neighbors (KNN) menunjukkan peningkatan kinerja setelah dilakukan tuning. Akurasi naik dari 0.996 menjadi 0.998, dan recall meningkat dari 0.996 ke 0.9989. Ini menunjukkan bahwa model semakin baik dalam menangkap semua data yang benar, meskipun precision dan F1-score sedikit menurun karena kemungkinan adanya trade-off antara presisi dan sensitivitas model. Sebaliknya, model Naive Bayes tidak menunjukkan peningkatan performa secara signifikan setelah tuning. Akurasi tetap di angka 0.966, namun precision dan F1-score justru menurun cukup besar. Hal ini menunjukkan bahwa tuning pada Naive Bayes kurang optimal atau bahkan berdampak negatif terhadap kestabilan prediksinya.\n",
        "\n",
        "2. **Identifikasi Kelemahan Model**\n",
        "\n",
        "Kelemahan model dapat dilihat pada hasil evaluasi Naive Bayes, di mana precision menurun drastis setelah tuning. Ini mengindikasikan bahwa model cenderung memberikan lebih banyak false positive, atau memprediksi kelas yang salah sebagai positif. Selain itu, F1-score yang menurun menunjukkan bahwa keseimbangan antara precision dan recall memburuk, terutama pada kelas minoritas yang jumlah datanya lebih sedikit. Sementara itu, pada model KNN, meskipun hasil evaluasi sangat baik secara keseluruhan, penurunan kecil pada F1 dan precision menunjukkan bahwa model mungkin menjadi sedikit lebih permisif terhadap kelas tertentu.\n",
        "\n",
        "3. **Overfitting atau Underfitting**\n",
        "\n",
        "Model KNN setelah tuning menunjukkan performa tinggi pada data uji, yang mengindikasikan bahwa model tidak mengalami overfitting. Hasil metrik yang tetap tinggi dan stabil menunjukkan bahwa model mampu melakukan generalisasi dengan baik. Di sisi lain, model Naive Bayes kemungkinan mengalami ketidakseimbangan antara sensitivitas dan presisi, terutama setelah tuning. Ini bisa menjadi indikasi awal terjadinya underfitting, di mana model terlalu sederhana atau tidak cukup fleksibel untuk menangkap kompleksitas data, terutama jika distribusi data antar kelas tidak homogen.\n",
        "\n",
        "4. **Rekomendasi Tindakan Lanjutan**\n",
        "\n",
        "Berdasarkan hasil evaluasi, beberapa tindakan yang dapat dilakukan untuk meningkatkan kinerja model antara lain: mencoba algoritma klasifikasi lain yang lebih kompleks seperti Random Forest, Gradient Boosting, atau Support Vector Machine untuk membandingkan performa secara menyeluruh. Selain itu, mengumpulkan lebih banyak data, terutama dari kelas minoritas, akan membantu model belajar distribusi yang lebih representatif. Feature engineering tambahan seperti pembuatan variabel baru atau seleksi fitur juga dapat dipertimbangkan untuk memperkuat sinyal dalam data. Terakhir, penggunaan teknik balancing seperti SMOTE bisa menjadi solusi bila ada ketidakseimbangan kelas yang memengaruhi performa model."
      ],
      "metadata": {
        "id": "Hm3BhSi6N4_l"
      }
    }
  ]
}